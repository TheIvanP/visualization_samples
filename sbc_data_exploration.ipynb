{
 "nbformat": 4,
 "nbformat_minor": 2,
 "metadata": {
  "language_info": {
   "name": "python",
   "codemirror_mode": {
    "name": "ipython",
    "version": 3
   },
   "version": "3.7.7-final"
  },
  "orig_nbformat": 2,
  "file_extension": ".py",
  "mimetype": "text/x-python",
  "name": "python",
  "npconvert_exporter": "python",
  "pygments_lexer": "ipython3",
  "version": 3,
  "kernelspec": {
   "name": "python37764bitvizexamplesconda5e3b22fb43dd4f66806ffa22cb70256b",
   "display_name": "Python 3.7.7 64-bit ('Viz_examples': conda)"
  }
 },
 "cells": [
  {
   "cell_type": "code",
   "execution_count": 80,
   "metadata": {},
   "outputs": [],
   "source": [
    "from bokeh.plotting import figure\n",
    "from bokeh.io import output_file, show, output_notebook\n",
    "from bokeh.models import ColumnDataSource\n",
    "from bokeh.models.tools import HoverTool\n",
    "import pandas"
   ]
  },
  {
   "cell_type": "code",
   "execution_count": 81,
   "metadata": {},
   "outputs": [],
   "source": [
    "data_orange_pi_st = pandas.read_csv(\"sbc_performance_data/orange_pi/zero_lts/buster/singlethread_output.csv\")\n",
    "data_raspberry_pi_st = pandas.read_csv(\"sbc_performance_data/raspberry_pi/buster/4B/std_kernel_4B_singlethread_output.csv\")\n",
    "data_rockpi_st = pandas.read_csv(\"sbc_performance_data/rockpi_s/stretch_4.4.143/singlethread_output.csv\")"
   ]
  },
  {
   "cell_type": "code",
   "execution_count": 82,
   "metadata": {},
   "outputs": [
    {
     "output_type": "execute_result",
     "data": {
      "text/plain": "time              int64\nqueen             int64\nthreads           int64\nsolutions         int64\nseconds           int64\nmicroseconds      int64\ncpu_temp        float64\ngpu_temp        float64\ndtype: object"
     },
     "metadata": {},
     "execution_count": 82
    }
   ],
   "source": [
    "data_raspberry_pi_st.dtypes"
   ]
  },
  {
   "cell_type": "code",
   "execution_count": 83,
   "metadata": {},
   "outputs": [
    {
     "output_type": "execute_result",
     "data": {
      "text/plain": "         time  queen  threads  solutions  seconds  microseconds  cpu_temp  \\\n0  1566160128     12        1      14200       66        943882     61.84   \n1  1566160197     12        1      14200       68        964935     63.78   \n2  1566160263     12        1      14200       66        262455     64.27   \n3  1566160330     12        1      14200       66        700631     64.76   \n4  1566160396     12        1      14200       66        150964     64.76   \n\n   gpu_temp  \n0      61.0  \n1      63.0  \n2      64.0  \n3      64.0  \n4      64.0  ",
      "text/html": "<div>\n<style scoped>\n    .dataframe tbody tr th:only-of-type {\n        vertical-align: middle;\n    }\n\n    .dataframe tbody tr th {\n        vertical-align: top;\n    }\n\n    .dataframe thead th {\n        text-align: right;\n    }\n</style>\n<table border=\"1\" class=\"dataframe\">\n  <thead>\n    <tr style=\"text-align: right;\">\n      <th></th>\n      <th>time</th>\n      <th>queen</th>\n      <th>threads</th>\n      <th>solutions</th>\n      <th>seconds</th>\n      <th>microseconds</th>\n      <th>cpu_temp</th>\n      <th>gpu_temp</th>\n    </tr>\n  </thead>\n  <tbody>\n    <tr>\n      <th>0</th>\n      <td>1566160128</td>\n      <td>12</td>\n      <td>1</td>\n      <td>14200</td>\n      <td>66</td>\n      <td>943882</td>\n      <td>61.84</td>\n      <td>61.0</td>\n    </tr>\n    <tr>\n      <th>1</th>\n      <td>1566160197</td>\n      <td>12</td>\n      <td>1</td>\n      <td>14200</td>\n      <td>68</td>\n      <td>964935</td>\n      <td>63.78</td>\n      <td>63.0</td>\n    </tr>\n    <tr>\n      <th>2</th>\n      <td>1566160263</td>\n      <td>12</td>\n      <td>1</td>\n      <td>14200</td>\n      <td>66</td>\n      <td>262455</td>\n      <td>64.27</td>\n      <td>64.0</td>\n    </tr>\n    <tr>\n      <th>3</th>\n      <td>1566160330</td>\n      <td>12</td>\n      <td>1</td>\n      <td>14200</td>\n      <td>66</td>\n      <td>700631</td>\n      <td>64.76</td>\n      <td>64.0</td>\n    </tr>\n    <tr>\n      <th>4</th>\n      <td>1566160396</td>\n      <td>12</td>\n      <td>1</td>\n      <td>14200</td>\n      <td>66</td>\n      <td>150964</td>\n      <td>64.76</td>\n      <td>64.0</td>\n    </tr>\n  </tbody>\n</table>\n</div>"
     },
     "metadata": {},
     "execution_count": 83
    }
   ],
   "source": [
    "data_raspberry_pi_st.head()\n"
   ]
  },
  {
   "cell_type": "code",
   "execution_count": 84,
   "metadata": {},
   "outputs": [],
   "source": [
    "x = data_raspberry_pi_st['time']\n",
    "y = data_raspberry_pi_st['microseconds']\n",
    "\n",
    "o_x = data_orange_pi_st['time']\n",
    "o_y = data_orange_pi_st['microseconds']\n",
    "\n",
    "r_x = data_rockpi_st['time']\n",
    "r_y = data_rockpi_st['microseconds']"
   ]
  },
  {
   "cell_type": "code",
   "execution_count": 89,
   "metadata": {},
   "outputs": [
    {
     "output_type": "execute_result",
     "data": {
      "text/plain": "0         0.0\n1        69.0\n2       135.0\n3       202.0\n4       268.0\n5       335.0\n6       402.0\n7       467.0\n8       535.0\n9       601.0\n10      670.0\n11      738.0\n12      805.0\n13      871.0\n14      937.0\n15     1003.0\n16     1071.0\n17     1137.0\n18     1205.0\n19     1273.0\n20     1340.0\n21     1408.0\n22     1474.0\n23     1541.0\n24     1608.0\n25     1674.0\n26     1741.0\n27     1806.0\n28     1874.0\n29     1940.0\n30     2007.0\n31     2073.0\n32     2140.0\n33     2207.0\n34     2275.0\n35     2341.0\n36     2409.0\n37     2475.0\n38     2541.0\n39     2607.0\n40     2674.0\n41     2740.0\n42     2806.0\n43     2872.0\n44     2939.0\n45    15138.0\n46    15478.0\n47    15815.0\n48    16151.0\n49    16486.0\nName: time, dtype: float64"
     },
     "metadata": {},
     "execution_count": 89
    }
   ],
   "source": [
    "xmin = x.min()\n",
    "oxmin = o_x.min()\n",
    "rxmin = r_x.min()\n",
    "\n",
    "x_o_x_time = x.apply(lambda x: x - xmin).combine_first(o_x.apply(lambda x: x - oxmin)).combine_first(r_x.apply(lambda x: x - rxmin))\n",
    "x_o_x_time"
   ]
  },
  {
   "cell_type": "code",
   "execution_count": 97,
   "metadata": {},
   "outputs": [
    {
     "output_type": "display_data",
     "data": {
      "text/html": "\n    <div class=\"bk-root\">\n        <a href=\"https://bokeh.org\" target=\"_blank\" class=\"bk-logo bk-logo-small bk-logo-notebook\"></a>\n        <span id=\"4296\">Loading BokehJS ...</span>\n    </div>"
     },
     "metadata": {}
    },
    {
     "output_type": "display_data",
     "data": {
      "application/javascript": "\n(function(root) {\n  function now() {\n    return new Date();\n  }\n\n  var force = true;\n\n  if (typeof root._bokeh_onload_callbacks === \"undefined\" || force === true) {\n    root._bokeh_onload_callbacks = [];\n    root._bokeh_is_loading = undefined;\n  }\n\n  var JS_MIME_TYPE = 'application/javascript';\n  var HTML_MIME_TYPE = 'text/html';\n  var EXEC_MIME_TYPE = 'application/vnd.bokehjs_exec.v0+json';\n  var CLASS_NAME = 'output_bokeh rendered_html';\n\n  /**\n   * Render data to the DOM node\n   */\n  function render(props, node) {\n    var script = document.createElement(\"script\");\n    node.appendChild(script);\n  }\n\n  /**\n   * Handle when an output is cleared or removed\n   */\n  function handleClearOutput(event, handle) {\n    var cell = handle.cell;\n\n    var id = cell.output_area._bokeh_element_id;\n    var server_id = cell.output_area._bokeh_server_id;\n    // Clean up Bokeh references\n    if (id != null && id in Bokeh.index) {\n      Bokeh.index[id].model.document.clear();\n      delete Bokeh.index[id];\n    }\n\n    if (server_id !== undefined) {\n      // Clean up Bokeh references\n      var cmd = \"from bokeh.io.state import curstate; print(curstate().uuid_to_server['\" + server_id + \"'].get_sessions()[0].document.roots[0]._id)\";\n      cell.notebook.kernel.execute(cmd, {\n        iopub: {\n          output: function(msg) {\n            var id = msg.content.text.trim();\n            if (id in Bokeh.index) {\n              Bokeh.index[id].model.document.clear();\n              delete Bokeh.index[id];\n            }\n          }\n        }\n      });\n      // Destroy server and session\n      var cmd = \"import bokeh.io.notebook as ion; ion.destroy_server('\" + server_id + \"')\";\n      cell.notebook.kernel.execute(cmd);\n    }\n  }\n\n  /**\n   * Handle when a new output is added\n   */\n  function handleAddOutput(event, handle) {\n    var output_area = handle.output_area;\n    var output = handle.output;\n\n    // limit handleAddOutput to display_data with EXEC_MIME_TYPE content only\n    if ((output.output_type != \"display_data\") || (!output.data.hasOwnProperty(EXEC_MIME_TYPE))) {\n      return\n    }\n\n    var toinsert = output_area.element.find(\".\" + CLASS_NAME.split(' ')[0]);\n\n    if (output.metadata[EXEC_MIME_TYPE][\"id\"] !== undefined) {\n      toinsert[toinsert.length - 1].firstChild.textContent = output.data[JS_MIME_TYPE];\n      // store reference to embed id on output_area\n      output_area._bokeh_element_id = output.metadata[EXEC_MIME_TYPE][\"id\"];\n    }\n    if (output.metadata[EXEC_MIME_TYPE][\"server_id\"] !== undefined) {\n      var bk_div = document.createElement(\"div\");\n      bk_div.innerHTML = output.data[HTML_MIME_TYPE];\n      var script_attrs = bk_div.children[0].attributes;\n      for (var i = 0; i < script_attrs.length; i++) {\n        toinsert[toinsert.length - 1].firstChild.setAttribute(script_attrs[i].name, script_attrs[i].value);\n        toinsert[toinsert.length - 1].firstChild.textContent = bk_div.children[0].textContent\n      }\n      // store reference to server id on output_area\n      output_area._bokeh_server_id = output.metadata[EXEC_MIME_TYPE][\"server_id\"];\n    }\n  }\n\n  function register_renderer(events, OutputArea) {\n\n    function append_mime(data, metadata, element) {\n      // create a DOM node to render to\n      var toinsert = this.create_output_subarea(\n        metadata,\n        CLASS_NAME,\n        EXEC_MIME_TYPE\n      );\n      this.keyboard_manager.register_events(toinsert);\n      // Render to node\n      var props = {data: data, metadata: metadata[EXEC_MIME_TYPE]};\n      render(props, toinsert[toinsert.length - 1]);\n      element.append(toinsert);\n      return toinsert\n    }\n\n    /* Handle when an output is cleared or removed */\n    events.on('clear_output.CodeCell', handleClearOutput);\n    events.on('delete.Cell', handleClearOutput);\n\n    /* Handle when a new output is added */\n    events.on('output_added.OutputArea', handleAddOutput);\n\n    /**\n     * Register the mime type and append_mime function with output_area\n     */\n    OutputArea.prototype.register_mime_type(EXEC_MIME_TYPE, append_mime, {\n      /* Is output safe? */\n      safe: true,\n      /* Index of renderer in `output_area.display_order` */\n      index: 0\n    });\n  }\n\n  // register the mime type if in Jupyter Notebook environment and previously unregistered\n  if (root.Jupyter !== undefined) {\n    var events = require('base/js/events');\n    var OutputArea = require('notebook/js/outputarea').OutputArea;\n\n    if (OutputArea.prototype.mime_types().indexOf(EXEC_MIME_TYPE) == -1) {\n      register_renderer(events, OutputArea);\n    }\n  }\n\n  \n  if (typeof (root._bokeh_timeout) === \"undefined\" || force === true) {\n    root._bokeh_timeout = Date.now() + 5000;\n    root._bokeh_failed_load = false;\n  }\n\n  var NB_LOAD_WARNING = {'data': {'text/html':\n     \"<div style='background-color: #fdd'>\\n\"+\n     \"<p>\\n\"+\n     \"BokehJS does not appear to have successfully loaded. If loading BokehJS from CDN, this \\n\"+\n     \"may be due to a slow or bad network connection. Possible fixes:\\n\"+\n     \"</p>\\n\"+\n     \"<ul>\\n\"+\n     \"<li>re-rerun `output_notebook()` to attempt to load from CDN again, or</li>\\n\"+\n     \"<li>use INLINE resources instead, as so:</li>\\n\"+\n     \"</ul>\\n\"+\n     \"<code>\\n\"+\n     \"from bokeh.resources import INLINE\\n\"+\n     \"output_notebook(resources=INLINE)\\n\"+\n     \"</code>\\n\"+\n     \"</div>\"}};\n\n  function display_loaded() {\n    var el = document.getElementById(\"4296\");\n    if (el != null) {\n      el.textContent = \"BokehJS is loading...\";\n    }\n    if (root.Bokeh !== undefined) {\n      if (el != null) {\n        el.textContent = \"BokehJS \" + root.Bokeh.version + \" successfully loaded.\";\n      }\n    } else if (Date.now() < root._bokeh_timeout) {\n      setTimeout(display_loaded, 100)\n    }\n  }\n\n\n  function run_callbacks() {\n    try {\n      root._bokeh_onload_callbacks.forEach(function(callback) {\n        if (callback != null)\n          callback();\n      });\n    } finally {\n      delete root._bokeh_onload_callbacks\n    }\n    console.debug(\"Bokeh: all callbacks have finished\");\n  }\n\n  function load_libs(css_urls, js_urls, callback) {\n    if (css_urls == null) css_urls = [];\n    if (js_urls == null) js_urls = [];\n\n    root._bokeh_onload_callbacks.push(callback);\n    if (root._bokeh_is_loading > 0) {\n      console.debug(\"Bokeh: BokehJS is being loaded, scheduling callback at\", now());\n      return null;\n    }\n    if (js_urls == null || js_urls.length === 0) {\n      run_callbacks();\n      return null;\n    }\n    console.debug(\"Bokeh: BokehJS not loaded, scheduling load and callback at\", now());\n    root._bokeh_is_loading = css_urls.length + js_urls.length;\n\n    function on_load() {\n      root._bokeh_is_loading--;\n      if (root._bokeh_is_loading === 0) {\n        console.debug(\"Bokeh: all BokehJS libraries/stylesheets loaded\");\n        run_callbacks()\n      }\n    }\n\n    function on_error() {\n      console.error(\"failed to load \" + url);\n    }\n\n    for (var i = 0; i < css_urls.length; i++) {\n      var url = css_urls[i];\n      const element = document.createElement(\"link\");\n      element.onload = on_load;\n      element.onerror = on_error;\n      element.rel = \"stylesheet\";\n      element.type = \"text/css\";\n      element.href = url;\n      console.debug(\"Bokeh: injecting link tag for BokehJS stylesheet: \", url);\n      document.body.appendChild(element);\n    }\n\n    const hashes = {\"https://cdn.bokeh.org/bokeh/release/bokeh-2.0.1.min.js\": \"JpP8FXbgAZLkfur7LiK3j9AGBhHNIvF742meBJrjO2ShJDhCG2I1uVvW+0DUtrmc\", \"https://cdn.bokeh.org/bokeh/release/bokeh-widgets-2.0.1.min.js\": \"xZlADit0Q04ISQEdKg2k3L4W9AwQBAuDs9nJL9fM/WwzL1tEU9VPNezOFX0nLEAz\", \"https://cdn.bokeh.org/bokeh/release/bokeh-tables-2.0.1.min.js\": \"4BuPRZkdMKSnj3zoxiNrQ86XgNw0rYmBOxe7nshquXwwcauupgBF2DHLVG1WuZlV\", \"https://cdn.bokeh.org/bokeh/release/bokeh-gl-2.0.1.min.js\": \"Dv1SQ87hmDqK6S5OhBf0bCuwAEvL5QYL0PuR/F1SPVhCS/r/abjkbpKDYL2zeM19\"};\n\n    for (var i = 0; i < js_urls.length; i++) {\n      var url = js_urls[i];\n      var element = document.createElement('script');\n      element.onload = on_load;\n      element.onerror = on_error;\n      element.async = false;\n      element.src = url;\n      if (url in hashes) {\n        element.crossOrigin = \"anonymous\";\n        element.integrity = \"sha384-\" + hashes[url];\n      }\n      console.debug(\"Bokeh: injecting script tag for BokehJS library: \", url);\n      document.head.appendChild(element);\n    }\n  };var element = document.getElementById(\"4296\");\n  if (element == null) {\n    console.error(\"Bokeh: ERROR: autoload.js configured with elementid '4296' but no matching script tag was found. \")\n    return false;\n  }\n\n  function inject_raw_css(css) {\n    const element = document.createElement(\"style\");\n    element.appendChild(document.createTextNode(css));\n    document.body.appendChild(element);\n  }\n\n  \n  var js_urls = [\"https://cdn.bokeh.org/bokeh/release/bokeh-2.0.1.min.js\", \"https://cdn.bokeh.org/bokeh/release/bokeh-widgets-2.0.1.min.js\", \"https://cdn.bokeh.org/bokeh/release/bokeh-tables-2.0.1.min.js\", \"https://cdn.bokeh.org/bokeh/release/bokeh-gl-2.0.1.min.js\"];\n  var css_urls = [];\n  \n\n  var inline_js = [\n    function(Bokeh) {\n      Bokeh.set_log_level(\"info\");\n    },\n    function(Bokeh) {\n    \n    \n    }\n  ];\n\n  function run_inline_js() {\n    \n    if (root.Bokeh !== undefined || force === true) {\n      \n    for (var i = 0; i < inline_js.length; i++) {\n      inline_js[i].call(root, root.Bokeh);\n    }\n    if (force === true) {\n        display_loaded();\n      }} else if (Date.now() < root._bokeh_timeout) {\n      setTimeout(run_inline_js, 100);\n    } else if (!root._bokeh_failed_load) {\n      console.log(\"Bokeh: BokehJS failed to load within specified timeout.\");\n      root._bokeh_failed_load = true;\n    } else if (force !== true) {\n      var cell = $(document.getElementById(\"4296\")).parents('.cell').data().cell;\n      cell.output_area.append_execute_result(NB_LOAD_WARNING)\n    }\n\n  }\n\n  if (root._bokeh_is_loading === 0) {\n    console.debug(\"Bokeh: BokehJS loaded, going straight to plotting\");\n    run_inline_js();\n  } else {\n    load_libs(css_urls, js_urls, function() {\n      console.debug(\"Bokeh: BokehJS plotting callback run at\", now());\n      run_inline_js();\n    });\n  }\n}(window));",
      "application/vnd.bokehjs_load.v0+json": "\n(function(root) {\n  function now() {\n    return new Date();\n  }\n\n  var force = true;\n\n  if (typeof root._bokeh_onload_callbacks === \"undefined\" || force === true) {\n    root._bokeh_onload_callbacks = [];\n    root._bokeh_is_loading = undefined;\n  }\n\n  \n\n  \n  if (typeof (root._bokeh_timeout) === \"undefined\" || force === true) {\n    root._bokeh_timeout = Date.now() + 5000;\n    root._bokeh_failed_load = false;\n  }\n\n  var NB_LOAD_WARNING = {'data': {'text/html':\n     \"<div style='background-color: #fdd'>\\n\"+\n     \"<p>\\n\"+\n     \"BokehJS does not appear to have successfully loaded. If loading BokehJS from CDN, this \\n\"+\n     \"may be due to a slow or bad network connection. Possible fixes:\\n\"+\n     \"</p>\\n\"+\n     \"<ul>\\n\"+\n     \"<li>re-rerun `output_notebook()` to attempt to load from CDN again, or</li>\\n\"+\n     \"<li>use INLINE resources instead, as so:</li>\\n\"+\n     \"</ul>\\n\"+\n     \"<code>\\n\"+\n     \"from bokeh.resources import INLINE\\n\"+\n     \"output_notebook(resources=INLINE)\\n\"+\n     \"</code>\\n\"+\n     \"</div>\"}};\n\n  function display_loaded() {\n    var el = document.getElementById(\"4296\");\n    if (el != null) {\n      el.textContent = \"BokehJS is loading...\";\n    }\n    if (root.Bokeh !== undefined) {\n      if (el != null) {\n        el.textContent = \"BokehJS \" + root.Bokeh.version + \" successfully loaded.\";\n      }\n    } else if (Date.now() < root._bokeh_timeout) {\n      setTimeout(display_loaded, 100)\n    }\n  }\n\n\n  function run_callbacks() {\n    try {\n      root._bokeh_onload_callbacks.forEach(function(callback) {\n        if (callback != null)\n          callback();\n      });\n    } finally {\n      delete root._bokeh_onload_callbacks\n    }\n    console.debug(\"Bokeh: all callbacks have finished\");\n  }\n\n  function load_libs(css_urls, js_urls, callback) {\n    if (css_urls == null) css_urls = [];\n    if (js_urls == null) js_urls = [];\n\n    root._bokeh_onload_callbacks.push(callback);\n    if (root._bokeh_is_loading > 0) {\n      console.debug(\"Bokeh: BokehJS is being loaded, scheduling callback at\", now());\n      return null;\n    }\n    if (js_urls == null || js_urls.length === 0) {\n      run_callbacks();\n      return null;\n    }\n    console.debug(\"Bokeh: BokehJS not loaded, scheduling load and callback at\", now());\n    root._bokeh_is_loading = css_urls.length + js_urls.length;\n\n    function on_load() {\n      root._bokeh_is_loading--;\n      if (root._bokeh_is_loading === 0) {\n        console.debug(\"Bokeh: all BokehJS libraries/stylesheets loaded\");\n        run_callbacks()\n      }\n    }\n\n    function on_error() {\n      console.error(\"failed to load \" + url);\n    }\n\n    for (var i = 0; i < css_urls.length; i++) {\n      var url = css_urls[i];\n      const element = document.createElement(\"link\");\n      element.onload = on_load;\n      element.onerror = on_error;\n      element.rel = \"stylesheet\";\n      element.type = \"text/css\";\n      element.href = url;\n      console.debug(\"Bokeh: injecting link tag for BokehJS stylesheet: \", url);\n      document.body.appendChild(element);\n    }\n\n    const hashes = {\"https://cdn.bokeh.org/bokeh/release/bokeh-2.0.1.min.js\": \"JpP8FXbgAZLkfur7LiK3j9AGBhHNIvF742meBJrjO2ShJDhCG2I1uVvW+0DUtrmc\", \"https://cdn.bokeh.org/bokeh/release/bokeh-widgets-2.0.1.min.js\": \"xZlADit0Q04ISQEdKg2k3L4W9AwQBAuDs9nJL9fM/WwzL1tEU9VPNezOFX0nLEAz\", \"https://cdn.bokeh.org/bokeh/release/bokeh-tables-2.0.1.min.js\": \"4BuPRZkdMKSnj3zoxiNrQ86XgNw0rYmBOxe7nshquXwwcauupgBF2DHLVG1WuZlV\", \"https://cdn.bokeh.org/bokeh/release/bokeh-gl-2.0.1.min.js\": \"Dv1SQ87hmDqK6S5OhBf0bCuwAEvL5QYL0PuR/F1SPVhCS/r/abjkbpKDYL2zeM19\"};\n\n    for (var i = 0; i < js_urls.length; i++) {\n      var url = js_urls[i];\n      var element = document.createElement('script');\n      element.onload = on_load;\n      element.onerror = on_error;\n      element.async = false;\n      element.src = url;\n      if (url in hashes) {\n        element.crossOrigin = \"anonymous\";\n        element.integrity = \"sha384-\" + hashes[url];\n      }\n      console.debug(\"Bokeh: injecting script tag for BokehJS library: \", url);\n      document.head.appendChild(element);\n    }\n  };var element = document.getElementById(\"4296\");\n  if (element == null) {\n    console.error(\"Bokeh: ERROR: autoload.js configured with elementid '4296' but no matching script tag was found. \")\n    return false;\n  }\n\n  function inject_raw_css(css) {\n    const element = document.createElement(\"style\");\n    element.appendChild(document.createTextNode(css));\n    document.body.appendChild(element);\n  }\n\n  \n  var js_urls = [\"https://cdn.bokeh.org/bokeh/release/bokeh-2.0.1.min.js\", \"https://cdn.bokeh.org/bokeh/release/bokeh-widgets-2.0.1.min.js\", \"https://cdn.bokeh.org/bokeh/release/bokeh-tables-2.0.1.min.js\", \"https://cdn.bokeh.org/bokeh/release/bokeh-gl-2.0.1.min.js\"];\n  var css_urls = [];\n  \n\n  var inline_js = [\n    function(Bokeh) {\n      Bokeh.set_log_level(\"info\");\n    },\n    function(Bokeh) {\n    \n    \n    }\n  ];\n\n  function run_inline_js() {\n    \n    if (root.Bokeh !== undefined || force === true) {\n      \n    for (var i = 0; i < inline_js.length; i++) {\n      inline_js[i].call(root, root.Bokeh);\n    }\n    if (force === true) {\n        display_loaded();\n      }} else if (Date.now() < root._bokeh_timeout) {\n      setTimeout(run_inline_js, 100);\n    } else if (!root._bokeh_failed_load) {\n      console.log(\"Bokeh: BokehJS failed to load within specified timeout.\");\n      root._bokeh_failed_load = true;\n    } else if (force !== true) {\n      var cell = $(document.getElementById(\"4296\")).parents('.cell').data().cell;\n      cell.output_area.append_execute_result(NB_LOAD_WARNING)\n    }\n\n  }\n\n  if (root._bokeh_is_loading === 0) {\n    console.debug(\"Bokeh: BokehJS loaded, going straight to plotting\");\n    run_inline_js();\n  } else {\n    load_libs(css_urls, js_urls, function() {\n      console.debug(\"Bokeh: BokehJS plotting callback run at\", now());\n      run_inline_js();\n    });\n  }\n}(window));"
     },
     "metadata": {}
    },
    {
     "output_type": "stream",
     "name": "stderr",
     "text": "BokehUserWarning: ColumnDataSource's columns must be of the same length. Current lengths: ('x1', 45), ('x2', 45), ('x3', 50), ('y', 50)\n"
    },
    {
     "output_type": "display_data",
     "data": {
      "text/html": "\n\n\n\n\n\n  <div class=\"bk-root\" id=\"9b122407-2e80-4e1f-bafd-6fc3d0ff2024\" data-root-id=\"4298\"></div>\n"
     },
     "metadata": {}
    },
    {
     "output_type": "display_data",
     "data": {
      "application/javascript": "(function(root) {\n  function embed_document(root) {\n    \n  var docs_json = {\"0265021b-fff8-4966-a907-6dfddb82b3c3\":{\"roots\":{\"references\":[{\"attributes\":{\"background_fill_color\":\"grey\",\"below\":[{\"id\":\"4307\"}],\"center\":[{\"id\":\"4310\"},{\"id\":\"4314\"}],\"left\":[{\"id\":\"4311\"}],\"renderers\":[{\"id\":\"4340\"},{\"id\":\"4345\"},{\"id\":\"4350\"}],\"title\":{\"id\":\"4506\"},\"toolbar\":{\"id\":\"4322\"},\"x_range\":{\"id\":\"4299\"},\"x_scale\":{\"id\":\"4303\"},\"y_range\":{\"id\":\"4301\"},\"y_scale\":{\"id\":\"4305\"}},\"id\":\"4298\",\"subtype\":\"Figure\",\"type\":\"Plot\"},{\"attributes\":{},\"id\":\"4305\",\"type\":\"LinearScale\"},{\"attributes\":{\"fields\":[\"x1\",\"x2\"]},\"id\":\"4334\",\"type\":\"Stack\"},{\"attributes\":{\"overlay\":{\"id\":\"4321\"}},\"id\":\"4317\",\"type\":\"BoxZoomTool\"},{\"attributes\":{},\"id\":\"4312\",\"type\":\"BasicTicker\"},{\"attributes\":{\"fill_color\":{\"value\":\"orange\"},\"height\":{\"value\":0.8},\"left\":{\"expr\":{\"id\":\"4333\"}},\"line_color\":{\"value\":\"orange\"},\"right\":{\"expr\":{\"id\":\"4334\"}},\"y\":{\"field\":\"y\"}},\"id\":\"4343\",\"type\":\"HBar\"},{\"attributes\":{},\"id\":\"4510\",\"type\":\"BasicTickFormatter\"},{\"attributes\":{},\"id\":\"4316\",\"type\":\"WheelZoomTool\"},{\"attributes\":{\"source\":{\"id\":\"4297\"}},\"id\":\"4346\",\"type\":\"CDSView\"},{\"attributes\":{\"fill_alpha\":{\"value\":0.1},\"fill_color\":{\"value\":\"orange\"},\"height\":{\"value\":0.8},\"left\":{\"expr\":{\"id\":\"4333\"}},\"line_alpha\":{\"value\":0.1},\"line_color\":{\"value\":\"orange\"},\"right\":{\"expr\":{\"id\":\"4334\"}},\"y\":{\"field\":\"y\"}},\"id\":\"4344\",\"type\":\"HBar\"},{\"attributes\":{\"fill_alpha\":{\"value\":0.1},\"fill_color\":{\"value\":\"yellow\"},\"height\":{\"value\":0.8},\"left\":{\"expr\":{\"id\":\"4335\"}},\"line_alpha\":{\"value\":0.1},\"line_color\":{\"value\":\"yellow\"},\"right\":{\"expr\":{\"id\":\"4336\"}},\"y\":{\"field\":\"y\"}},\"id\":\"4349\",\"type\":\"HBar\"},{\"attributes\":{\"fields\":[\"x1\"]},\"id\":\"4333\",\"type\":\"Stack\"},{\"attributes\":{\"fields\":[\"x1\",\"x2\",\"x3\"]},\"id\":\"4336\",\"type\":\"Stack\"},{\"attributes\":{\"callback\":null},\"id\":\"4329\",\"type\":\"HoverTool\"},{\"attributes\":{\"fields\":[\"x1\",\"x2\"]},\"id\":\"4335\",\"type\":\"Stack\"},{\"attributes\":{\"fields\":[]},\"id\":\"4331\",\"type\":\"Stack\"},{\"attributes\":{},\"id\":\"4299\",\"type\":\"DataRange1d\"},{\"attributes\":{\"text\":\"\"},\"id\":\"4506\",\"type\":\"Title\"},{\"attributes\":{\"fill_color\":{\"value\":\"red\"},\"height\":{\"value\":0.8},\"left\":{\"expr\":{\"id\":\"4331\"}},\"line_color\":{\"value\":\"red\"},\"right\":{\"expr\":{\"id\":\"4332\"}},\"y\":{\"field\":\"y\"}},\"id\":\"4338\",\"type\":\"HBar\"},{\"attributes\":{\"fill_alpha\":{\"value\":0.1},\"fill_color\":{\"value\":\"red\"},\"height\":{\"value\":0.8},\"left\":{\"expr\":{\"id\":\"4331\"}},\"line_alpha\":{\"value\":0.1},\"line_color\":{\"value\":\"red\"},\"right\":{\"expr\":{\"id\":\"4332\"}},\"y\":{\"field\":\"y\"}},\"id\":\"4339\",\"type\":\"HBar\"},{\"attributes\":{},\"id\":\"4303\",\"type\":\"LinearScale\"},{\"attributes\":{\"bottom_units\":\"screen\",\"fill_alpha\":0.5,\"fill_color\":\"lightgrey\",\"left_units\":\"screen\",\"level\":\"overlay\",\"line_alpha\":1.0,\"line_color\":\"black\",\"line_dash\":[4,4],\"line_width\":2,\"render_mode\":\"css\",\"right_units\":\"screen\",\"top_units\":\"screen\"},\"id\":\"4321\",\"type\":\"BoxAnnotation\"},{\"attributes\":{\"fields\":[\"x1\"]},\"id\":\"4332\",\"type\":\"Stack\"},{\"attributes\":{},\"id\":\"4315\",\"type\":\"PanTool\"},{\"attributes\":{},\"id\":\"4301\",\"type\":\"DataRange1d\"},{\"attributes\":{\"formatter\":{\"id\":\"4508\"},\"ticker\":{\"id\":\"4308\"}},\"id\":\"4307\",\"type\":\"LinearAxis\"},{\"attributes\":{\"axis\":{\"id\":\"4311\"},\"dimension\":1,\"ticker\":null},\"id\":\"4314\",\"type\":\"Grid\"},{\"attributes\":{\"data_source\":{\"id\":\"4297\"},\"glyph\":{\"id\":\"4343\"},\"hover_glyph\":null,\"muted_glyph\":null,\"name\":\"x2\",\"nonselection_glyph\":{\"id\":\"4344\"},\"selection_glyph\":null,\"view\":{\"id\":\"4346\"}},\"id\":\"4345\",\"type\":\"GlyphRenderer\"},{\"attributes\":{\"data_source\":{\"id\":\"4297\"},\"glyph\":{\"id\":\"4348\"},\"hover_glyph\":null,\"muted_glyph\":null,\"name\":\"x3\",\"nonselection_glyph\":{\"id\":\"4349\"},\"selection_glyph\":null,\"view\":{\"id\":\"4351\"}},\"id\":\"4350\",\"type\":\"GlyphRenderer\"},{\"attributes\":{\"axis\":{\"id\":\"4307\"},\"ticker\":null},\"id\":\"4310\",\"type\":\"Grid\"},{\"attributes\":{\"source\":{\"id\":\"4297\"}},\"id\":\"4351\",\"type\":\"CDSView\"},{\"attributes\":{\"data\":{\"x1\":[943882,964935,262455,700631,150964,430334,752515,745693,511631,323945,668635,852209,810192,827078,46496,153676,271516,730563,607261,881569,510394,242323,399044,241668,870804,868194,417442,173948,630662,194494,456780,592260,312726,318986,40526,833744,270894,501180,600532,235525,651845,562763,936199,480502,312677],\"x2\":[97670,874315,251613,900319,810502,338324,238373,34139,426434,908621,256297,156342,954689,291468,829285,547099,480641,300812,366507,539448,360731,237660,859037,240677,152134,255606,470766,239183,810664,867470,750360,342001,844940,417245,244985,244534,760592,183622,555948,185104,772202,902859,723159,498046,659394],\"x3\":[887689,177253,14243,805860,797140,324516,284579,226909,206697,145044,839520,925187,71401,288277,13204,300663,809226,852844,203026,633159,799875,678521,467921,616309,496671,955581,361481,68055,925579,932755,523871,928856,741687,929708,531619,823888,998022,778070,267145,622668,66228,342476,549052,444975,309926,344173,192776,663145,804147,140632],\"y\":{\"__ndarray__\":\"AAAAAAAAAAAAAAAAAEBRQAAAAAAA4GBAAAAAAABAaUAAAAAAAMBwQAAAAAAA8HRAAAAAAAAgeUAAAAAAADB9QAAAAAAAuIBAAAAAAADIgkAAAAAAAPCEQAAAAAAAEIdAAAAAAAAoiUAAAAAAADiLQAAAAAAASI1AAAAAAABYj0AAAAAAALyQQAAAAAAAxJFAAAAAAADUkkAAAAAAAOSTQAAAAAAA8JRAAAAAAAAAlkAAAAAAAAiXQAAAAAAAFJhAAAAAAAAgmUAAAAAAACiaQAAAAAAANJtAAAAAAAA4nEAAAAAAAEidQAAAAAAAUJ5AAAAAAABcn0AAAAAAADKgQAAAAAAAuKBAAAAAAAA+oUAAAAAAAMahQAAAAAAASqJAAAAAAADSokAAAAAAAFajQAAAAAAA2qNAAAAAAABepEAAAAAAAOSkQAAAAAAAaKVAAAAAAADspUAAAAAAAHCmQAAAAAAA9qZAAAAAAACRzUAAAAAAADvOQAAAAACA485AAAAAAICLz0AAAAAAgBnQQA==\",\"dtype\":\"float64\",\"shape\":[50]}},\"selected\":{\"id\":\"4512\"},\"selection_policy\":{\"id\":\"4513\"}},\"id\":\"4297\",\"type\":\"ColumnDataSource\"},{\"attributes\":{},\"id\":\"4318\",\"type\":\"SaveTool\"},{\"attributes\":{},\"id\":\"4308\",\"type\":\"BasicTicker\"},{\"attributes\":{\"source\":{\"id\":\"4297\"}},\"id\":\"4341\",\"type\":\"CDSView\"},{\"attributes\":{},\"id\":\"4319\",\"type\":\"ResetTool\"},{\"attributes\":{},\"id\":\"4512\",\"type\":\"Selection\"},{\"attributes\":{\"active_drag\":\"auto\",\"active_inspect\":\"auto\",\"active_multi\":null,\"active_scroll\":\"auto\",\"active_tap\":\"auto\",\"tools\":[{\"id\":\"4315\"},{\"id\":\"4316\"},{\"id\":\"4317\"},{\"id\":\"4318\"},{\"id\":\"4319\"},{\"id\":\"4320\"},{\"id\":\"4329\"}]},\"id\":\"4322\",\"type\":\"Toolbar\"},{\"attributes\":{\"fill_color\":{\"value\":\"yellow\"},\"height\":{\"value\":0.8},\"left\":{\"expr\":{\"id\":\"4335\"}},\"line_color\":{\"value\":\"yellow\"},\"right\":{\"expr\":{\"id\":\"4336\"}},\"y\":{\"field\":\"y\"}},\"id\":\"4348\",\"type\":\"HBar\"},{\"attributes\":{},\"id\":\"4513\",\"type\":\"UnionRenderers\"},{\"attributes\":{},\"id\":\"4508\",\"type\":\"BasicTickFormatter\"},{\"attributes\":{},\"id\":\"4320\",\"type\":\"HelpTool\"},{\"attributes\":{\"data_source\":{\"id\":\"4297\"},\"glyph\":{\"id\":\"4338\"},\"hover_glyph\":null,\"muted_glyph\":null,\"name\":\"x1\",\"nonselection_glyph\":{\"id\":\"4339\"},\"selection_glyph\":null,\"view\":{\"id\":\"4341\"}},\"id\":\"4340\",\"type\":\"GlyphRenderer\"},{\"attributes\":{\"formatter\":{\"id\":\"4510\"},\"ticker\":{\"id\":\"4312\"}},\"id\":\"4311\",\"type\":\"LinearAxis\"}],\"root_ids\":[\"4298\"]},\"title\":\"Bokeh Application\",\"version\":\"2.0.1\"}};\n  var render_items = [{\"docid\":\"0265021b-fff8-4966-a907-6dfddb82b3c3\",\"root_ids\":[\"4298\"],\"roots\":{\"4298\":\"9b122407-2e80-4e1f-bafd-6fc3d0ff2024\"}}];\n  root.Bokeh.embed.embed_items_notebook(docs_json, render_items);\n\n  }\n  if (root.Bokeh !== undefined) {\n    embed_document(root);\n  } else {\n    var attempts = 0;\n    var timer = setInterval(function(root) {\n      if (root.Bokeh !== undefined) {\n        clearInterval(timer);\n        embed_document(root);\n      } else {\n        attempts++;\n        if (attempts > 100) {\n          clearInterval(timer);\n          console.log(\"Bokeh: ERROR: Unable to run BokehJS code because BokehJS library is missing\");\n        }\n      }\n    }, 10, root)\n  }\n})(window);",
      "application/vnd.bokehjs_exec.v0+json": ""
     },
     "metadata": {
      "application/vnd.bokehjs_exec.v0+json": {
       "id": "4298"
      }
     }
    }
   ],
   "source": [
    "output_notebook()\n",
    "\n",
    "source = ColumnDataSource(data=dict(\n",
    "    y=x_o_x_time,\n",
    "    x1=y,\n",
    "    x2=o_y,\n",
    "    x3=r_y,\n",
    "))\n",
    "\n",
    "p = figure()\n",
    "p.add_tools(HoverTool())\n",
    "p.background_fill_color = \"grey\"\n",
    "p.hbar_stack(['x1', 'x2', 'x3'], y='y', height=0.8, color=(\"red\", \"orange\", \"yellow\"), source=source)\n",
    "#p.scatter(x = 'x1', y='y',size=20, source=source)\n",
    "show(p)\n",
    ""
   ]
  },
  {
   "cell_type": "code",
   "execution_count": null,
   "metadata": {},
   "outputs": [],
   "source": []
  },
  {
   "cell_type": "code",
   "execution_count": null,
   "metadata": {},
   "outputs": [],
   "source": []
  }
 ]
}